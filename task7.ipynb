{
 "cells": [
  {
   "cell_type": "markdown",
   "metadata": {},
   "source": [
    "<font color=\"red\">\n",
    "    НЕ ДОДЕЛАНО\n",
    "</font>"
   ]
  },
  {
   "cell_type": "code",
   "execution_count": 94,
   "metadata": {},
   "outputs": [],
   "source": [
    "import numpy as np\n",
    "from scipy.integrate import solve_ivp\n",
    "from scipy.optimize import minimize\n",
    "import matplotlib.pyplot as plt"
   ]
  },
  {
   "cell_type": "code",
   "execution_count": 95,
   "metadata": {},
   "outputs": [
    {
     "name": "stdout",
     "output_type": "stream",
     "text": [
      "[20.          6.         21.42857143 15.        ]\n"
     ]
    }
   ],
   "source": [
    "Q = np.array([3, 0.15, 0.5, 0.14, 0.2])\n",
    "G = Q[0] / Q[1:]\n",
    "print(G)"
   ]
  },
  {
   "cell_type": "code",
   "execution_count": 96,
   "metadata": {},
   "outputs": [],
   "source": [
    "beta = np.array([11.6, 1.4, 1.3, 1.9])\n",
    "K = np.array([4.8, 4.8, 4.8, 1.45 * 1e-1]) * 1e7\n",
    "p = np.ones(9)"
   ]
  },
  {
   "cell_type": "code",
   "execution_count": 97,
   "metadata": {},
   "outputs": [],
   "source": [
    "t0 = 0\n",
    "t_end = 100\n",
    "t_step = 0.01\n",
    "t_eval = np.arange(t0, t_end + t_step, t_step)"
   ]
  },
  {
   "cell_type": "code",
   "execution_count": 98,
   "metadata": {},
   "outputs": [],
   "source": [
    "y0 = [1e4, 0, 0, 0, 0]"
   ]
  },
  {
   "cell_type": "code",
   "execution_count": 99,
   "metadata": {},
   "outputs": [],
   "source": [
    "t_blood = []\n",
    "y_blood = []\n",
    "\n",
    "t_liver = [4.785e+001, 7.403e+001, 1.000e+002]\n",
    "y_liver = [3.02557515625000e+007, 3.11080234375000e+007,5.25568656250000e+007]\n",
    "\n",
    "t_lung = [2.77163799323991e+001, 4.77937466430118e+001, 7.40029405860555e+001, 9.99609368642068e+001]\n",
    "y_lung = [1.79770817933235e+007, 2.45026082716190e+007, 3.47091082260453e+007, 4.36440682123732e+007]\n",
    "\n",
    "t_kidney = [74.0614, 100]\n",
    "y_kidney = [2.29778879695037e+007, 2.47597319671937e+007]\n",
    "\n",
    "t_spleen = [9.37114673242910e+000, 1.71393341553637e+001, 2.49075215782984e+001, 2.67570900123305e+001, 4.61159062885327e+001]\n",
    "y_spleen = [2.46338220080121e+007, 6.02783305334907e+007,8.14736403465229e+007, 8.41970984769505e+007, 9.72710734323651e+007]\n",
    "\n",
    "t_organs = [t_blood, t_spleen, t_liver, t_lung, t_kidney]\n",
    "y_organs = [y_blood, y_spleen, y_liver, y_lung, y_kidney]\n"
   ]
  },
  {
   "cell_type": "code",
   "execution_count": 100,
   "metadata": {},
   "outputs": [],
   "source": [
    "def binary_search(arr, x):\n",
    "    left = 0\n",
    "    right = len(arr) - 1\n",
    "    result = arr[0]  # по умолчанию ближайшее число - первый элемент массива\n",
    "\n",
    "    while left <= right:\n",
    "        mid = (left + right) // 2\n",
    "\n",
    "        if arr[mid] == x:\n",
    "            return arr[mid], mid\n",
    "        elif arr[mid] < x:\n",
    "            left = mid + 1\n",
    "        else:\n",
    "            right = mid - 1\n",
    "\n",
    "        if abs(arr[mid] - x) < abs(result - x):\n",
    "            result = arr[mid]\n",
    "\n",
    "    return result, mid\n"
   ]
  },
  {
   "cell_type": "code",
   "execution_count": 101,
   "metadata": {},
   "outputs": [],
   "source": [
    "def f(t, y, M, beta, K):\n",
    "    return  M@y + np.concatenate([[0], beta * y[1:] * (1 - y[1:] / K)])"
   ]
  },
  {
   "cell_type": "code",
   "execution_count": 102,
   "metadata": {},
   "outputs": [],
   "source": [
    "def Phi(p):\n",
    "\n",
    "    M_b_i = p[:len(p) // 2] * G\n",
    "    M_i_b = p[len(p) // 2:-1] / G\n",
    "    M0 = p[-1]\n",
    "\n",
    "    M = np.zeros((len(M_b_i) + 1, len(M_b_i) + 1))\n",
    "    M[0, 1:] = M_i_b\n",
    "    M[1:, 0] = M_b_i\n",
    "    for i in range(1, len(M)):\n",
    "        M[i, i] = -M_i_b[i - 1] \n",
    "    M[0, 0] = -np.sum(M_b_i) - M0\n",
    "\n",
    "    # print(p)\n",
    "\n",
    "    sol = solve_ivp(fun=f, t_span=[t0, t_end], y0=y0, method='RK45', t_eval=t_eval, args=[M, beta, K])    \n",
    "    sum = 0\n",
    "\n",
    "    for i in range(len(y_organs)):\n",
    "        for y, t in zip(y_organs[i], t_organs[i]):\n",
    "            _, index = binary_search(t_eval, t)\n",
    "            # print(sol.t)\n",
    "            sum += (np.log(sol.y[i][index]) - np.log(y))**2\n",
    "    # print(sum)\n",
    "    return sum\n",
    "\n",
    "            \n",
    "    "
   ]
  },
  {
   "cell_type": "code",
   "execution_count": 103,
   "metadata": {},
   "outputs": [],
   "source": [
    "# M_b_i = p[:len(p) // 2]\n",
    "# M_i_b = p[len(p) // 2:-1]\n",
    "# M0 = p[-1]\n",
    "\n",
    "# M = np.zeros((len(M_b_i) + 1, len(M_b_i) + 1))\n",
    "# M[0, 1:] = M_i_b\n",
    "# M[1:, 0] = M_b_i\n",
    "# for i in range(1, len(M)):\n",
    "#     M[i, i] = -M_i_b[i - 1] \n",
    "# M[0, 0] = -np.sum(M_b_i) - M0\n",
    "\n",
    "# print(M)\n",
    "\n",
    "# sol = solve_ivp(fun=f, t_span=[t0, t_end], y0=y0, method='RK45', t_eval=t_eval, args=[M, beta, K])    \n",
    "# sum = 0\n",
    "\n",
    "# for i in range(len(y_organs)):\n",
    "#     for y, t in zip(y_organs[i], t_organs[i]):\n",
    "#         _, index = binary_search(t_eval, t)\n",
    "#         sum += (np.log(sol.y[i][index]) - np.log(y))**2\n",
    "\n",
    "# print(sum)"
   ]
  },
  {
   "cell_type": "code",
   "execution_count": 106,
   "metadata": {},
   "outputs": [
    {
     "ename": "KeyboardInterrupt",
     "evalue": "",
     "output_type": "error",
     "traceback": [
      "\u001b[1;31m---------------------------------------------------------------------------\u001b[0m",
      "\u001b[1;31mKeyboardInterrupt\u001b[0m                         Traceback (most recent call last)",
      "\u001b[1;32mc:\\Users\\king choco\\Desktop\\Mmi\\task7.ipynb Cell 11\u001b[0m line \u001b[0;36m4\n\u001b[0;32m      <a href='vscode-notebook-cell:/c%3A/Users/king%20choco/Desktop/Mmi/task7.ipynb#X13sZmlsZQ%3D%3D?line=1'>2</a>\u001b[0m p \u001b[39m=\u001b[39m [\u001b[39m5.58305698e-002\u001b[39m, \u001b[39m2.98276823e+000\u001b[39m, \u001b[39m1.28741004e+000\u001b[39m, \u001b[39m3.92213320e+000\u001b[39m, \u001b[39m4.08398955e+001\u001b[39m, \u001b[39m8.03871751e+000\u001b[39m, \u001b[39m5.02156344e+001\u001b[39m, \u001b[39m1.79981418e+000\u001b[39m, \u001b[39m1e8\u001b[39m]\n\u001b[0;32m      <a href='vscode-notebook-cell:/c%3A/Users/king%20choco/Desktop/Mmi/task7.ipynb#X13sZmlsZQ%3D%3D?line=2'>3</a>\u001b[0m bounds \u001b[39m=\u001b[39m [(\u001b[39m1e-160\u001b[39m, \u001b[39mNone\u001b[39;00m) \u001b[39mfor\u001b[39;00m _ \u001b[39min\u001b[39;00m p]\n\u001b[1;32m----> <a href='vscode-notebook-cell:/c%3A/Users/king%20choco/Desktop/Mmi/task7.ipynb#X13sZmlsZQ%3D%3D?line=3'>4</a>\u001b[0m res \u001b[39m=\u001b[39m minimize(Phi, p, bounds\u001b[39m=\u001b[39;49mbounds)\n\u001b[0;32m      <a href='vscode-notebook-cell:/c%3A/Users/king%20choco/Desktop/Mmi/task7.ipynb#X13sZmlsZQ%3D%3D?line=4'>5</a>\u001b[0m \u001b[39mprint\u001b[39m(res\u001b[39m.\u001b[39mx)\n\u001b[0;32m      <a href='vscode-notebook-cell:/c%3A/Users/king%20choco/Desktop/Mmi/task7.ipynb#X13sZmlsZQ%3D%3D?line=6'>7</a>\u001b[0m res \u001b[39m=\u001b[39m minimize(Phi, res\u001b[39m.\u001b[39mx, bounds\u001b[39m=\u001b[39mbounds)\n",
      "File \u001b[1;32mc:\\Users\\king choco\\AppData\\Local\\Programs\\Python\\Python311\\Lib\\site-packages\\scipy\\optimize\\_minimize.py:710\u001b[0m, in \u001b[0;36mminimize\u001b[1;34m(fun, x0, args, method, jac, hess, hessp, bounds, constraints, tol, callback, options)\u001b[0m\n\u001b[0;32m    707\u001b[0m     res \u001b[39m=\u001b[39m _minimize_newtoncg(fun, x0, args, jac, hess, hessp, callback,\n\u001b[0;32m    708\u001b[0m                              \u001b[39m*\u001b[39m\u001b[39m*\u001b[39moptions)\n\u001b[0;32m    709\u001b[0m \u001b[39melif\u001b[39;00m meth \u001b[39m==\u001b[39m \u001b[39m'\u001b[39m\u001b[39ml-bfgs-b\u001b[39m\u001b[39m'\u001b[39m:\n\u001b[1;32m--> 710\u001b[0m     res \u001b[39m=\u001b[39m _minimize_lbfgsb(fun, x0, args, jac, bounds,\n\u001b[0;32m    711\u001b[0m                            callback\u001b[39m=\u001b[39;49mcallback, \u001b[39m*\u001b[39;49m\u001b[39m*\u001b[39;49moptions)\n\u001b[0;32m    712\u001b[0m \u001b[39melif\u001b[39;00m meth \u001b[39m==\u001b[39m \u001b[39m'\u001b[39m\u001b[39mtnc\u001b[39m\u001b[39m'\u001b[39m:\n\u001b[0;32m    713\u001b[0m     res \u001b[39m=\u001b[39m _minimize_tnc(fun, x0, args, jac, bounds, callback\u001b[39m=\u001b[39mcallback,\n\u001b[0;32m    714\u001b[0m                         \u001b[39m*\u001b[39m\u001b[39m*\u001b[39moptions)\n",
      "File \u001b[1;32mc:\\Users\\king choco\\AppData\\Local\\Programs\\Python\\Python311\\Lib\\site-packages\\scipy\\optimize\\_lbfgsb_py.py:307\u001b[0m, in \u001b[0;36m_minimize_lbfgsb\u001b[1;34m(fun, x0, args, jac, bounds, disp, maxcor, ftol, gtol, eps, maxfun, maxiter, iprint, callback, maxls, finite_diff_rel_step, **unknown_options)\u001b[0m\n\u001b[0;32m    304\u001b[0m     \u001b[39melse\u001b[39;00m:\n\u001b[0;32m    305\u001b[0m         iprint \u001b[39m=\u001b[39m disp\n\u001b[1;32m--> 307\u001b[0m sf \u001b[39m=\u001b[39m _prepare_scalar_function(fun, x0, jac\u001b[39m=\u001b[39;49mjac, args\u001b[39m=\u001b[39;49margs, epsilon\u001b[39m=\u001b[39;49meps,\n\u001b[0;32m    308\u001b[0m                               bounds\u001b[39m=\u001b[39;49mnew_bounds,\n\u001b[0;32m    309\u001b[0m                               finite_diff_rel_step\u001b[39m=\u001b[39;49mfinite_diff_rel_step)\n\u001b[0;32m    311\u001b[0m func_and_grad \u001b[39m=\u001b[39m sf\u001b[39m.\u001b[39mfun_and_grad\n\u001b[0;32m    313\u001b[0m fortran_int \u001b[39m=\u001b[39m _lbfgsb\u001b[39m.\u001b[39mtypes\u001b[39m.\u001b[39mintvar\u001b[39m.\u001b[39mdtype\n",
      "File \u001b[1;32mc:\\Users\\king choco\\AppData\\Local\\Programs\\Python\\Python311\\Lib\\site-packages\\scipy\\optimize\\_optimize.py:383\u001b[0m, in \u001b[0;36m_prepare_scalar_function\u001b[1;34m(fun, x0, jac, args, bounds, epsilon, finite_diff_rel_step, hess)\u001b[0m\n\u001b[0;32m    379\u001b[0m     bounds \u001b[39m=\u001b[39m (\u001b[39m-\u001b[39mnp\u001b[39m.\u001b[39minf, np\u001b[39m.\u001b[39minf)\n\u001b[0;32m    381\u001b[0m \u001b[39m# ScalarFunction caches. Reuse of fun(x) during grad\u001b[39;00m\n\u001b[0;32m    382\u001b[0m \u001b[39m# calculation reduces overall function evaluations.\u001b[39;00m\n\u001b[1;32m--> 383\u001b[0m sf \u001b[39m=\u001b[39m ScalarFunction(fun, x0, args, grad, hess,\n\u001b[0;32m    384\u001b[0m                     finite_diff_rel_step, bounds, epsilon\u001b[39m=\u001b[39;49mepsilon)\n\u001b[0;32m    386\u001b[0m \u001b[39mreturn\u001b[39;00m sf\n",
      "File \u001b[1;32mc:\\Users\\king choco\\AppData\\Local\\Programs\\Python\\Python311\\Lib\\site-packages\\scipy\\optimize\\_differentiable_functions.py:158\u001b[0m, in \u001b[0;36mScalarFunction.__init__\u001b[1;34m(self, fun, x0, args, grad, hess, finite_diff_rel_step, finite_diff_bounds, epsilon)\u001b[0m\n\u001b[0;32m    155\u001b[0m     \u001b[39mself\u001b[39m\u001b[39m.\u001b[39mf \u001b[39m=\u001b[39m fun_wrapped(\u001b[39mself\u001b[39m\u001b[39m.\u001b[39mx)\n\u001b[0;32m    157\u001b[0m \u001b[39mself\u001b[39m\u001b[39m.\u001b[39m_update_fun_impl \u001b[39m=\u001b[39m update_fun\n\u001b[1;32m--> 158\u001b[0m \u001b[39mself\u001b[39;49m\u001b[39m.\u001b[39;49m_update_fun()\n\u001b[0;32m    160\u001b[0m \u001b[39m# Gradient evaluation\u001b[39;00m\n\u001b[0;32m    161\u001b[0m \u001b[39mif\u001b[39;00m \u001b[39mcallable\u001b[39m(grad):\n",
      "File \u001b[1;32mc:\\Users\\king choco\\AppData\\Local\\Programs\\Python\\Python311\\Lib\\site-packages\\scipy\\optimize\\_differentiable_functions.py:251\u001b[0m, in \u001b[0;36mScalarFunction._update_fun\u001b[1;34m(self)\u001b[0m\n\u001b[0;32m    249\u001b[0m \u001b[39mdef\u001b[39;00m \u001b[39m_update_fun\u001b[39m(\u001b[39mself\u001b[39m):\n\u001b[0;32m    250\u001b[0m     \u001b[39mif\u001b[39;00m \u001b[39mnot\u001b[39;00m \u001b[39mself\u001b[39m\u001b[39m.\u001b[39mf_updated:\n\u001b[1;32m--> 251\u001b[0m         \u001b[39mself\u001b[39;49m\u001b[39m.\u001b[39;49m_update_fun_impl()\n\u001b[0;32m    252\u001b[0m         \u001b[39mself\u001b[39m\u001b[39m.\u001b[39mf_updated \u001b[39m=\u001b[39m \u001b[39mTrue\u001b[39;00m\n",
      "File \u001b[1;32mc:\\Users\\king choco\\AppData\\Local\\Programs\\Python\\Python311\\Lib\\site-packages\\scipy\\optimize\\_differentiable_functions.py:155\u001b[0m, in \u001b[0;36mScalarFunction.__init__.<locals>.update_fun\u001b[1;34m()\u001b[0m\n\u001b[0;32m    154\u001b[0m \u001b[39mdef\u001b[39;00m \u001b[39mupdate_fun\u001b[39m():\n\u001b[1;32m--> 155\u001b[0m     \u001b[39mself\u001b[39m\u001b[39m.\u001b[39mf \u001b[39m=\u001b[39m fun_wrapped(\u001b[39mself\u001b[39;49m\u001b[39m.\u001b[39;49mx)\n",
      "File \u001b[1;32mc:\\Users\\king choco\\AppData\\Local\\Programs\\Python\\Python311\\Lib\\site-packages\\scipy\\optimize\\_differentiable_functions.py:137\u001b[0m, in \u001b[0;36mScalarFunction.__init__.<locals>.fun_wrapped\u001b[1;34m(x)\u001b[0m\n\u001b[0;32m    133\u001b[0m \u001b[39mself\u001b[39m\u001b[39m.\u001b[39mnfev \u001b[39m+\u001b[39m\u001b[39m=\u001b[39m \u001b[39m1\u001b[39m\n\u001b[0;32m    134\u001b[0m \u001b[39m# Send a copy because the user may overwrite it.\u001b[39;00m\n\u001b[0;32m    135\u001b[0m \u001b[39m# Overwriting results in undefined behaviour because\u001b[39;00m\n\u001b[0;32m    136\u001b[0m \u001b[39m# fun(self.x) will change self.x, with the two no longer linked.\u001b[39;00m\n\u001b[1;32m--> 137\u001b[0m fx \u001b[39m=\u001b[39m fun(np\u001b[39m.\u001b[39;49mcopy(x), \u001b[39m*\u001b[39;49margs)\n\u001b[0;32m    138\u001b[0m \u001b[39m# Make sure the function returns a true scalar\u001b[39;00m\n\u001b[0;32m    139\u001b[0m \u001b[39mif\u001b[39;00m \u001b[39mnot\u001b[39;00m np\u001b[39m.\u001b[39misscalar(fx):\n",
      "\u001b[1;32mc:\\Users\\king choco\\Desktop\\Mmi\\task7.ipynb Cell 11\u001b[0m line \u001b[0;36m1\n\u001b[0;32m     <a href='vscode-notebook-cell:/c%3A/Users/king%20choco/Desktop/Mmi/task7.ipynb#X13sZmlsZQ%3D%3D?line=11'>12</a>\u001b[0m M[\u001b[39m0\u001b[39m, \u001b[39m0\u001b[39m] \u001b[39m=\u001b[39m \u001b[39m-\u001b[39mnp\u001b[39m.\u001b[39msum(M_b_i) \u001b[39m-\u001b[39m M0\n\u001b[0;32m     <a href='vscode-notebook-cell:/c%3A/Users/king%20choco/Desktop/Mmi/task7.ipynb#X13sZmlsZQ%3D%3D?line=13'>14</a>\u001b[0m \u001b[39m# print(p)\u001b[39;00m\n\u001b[1;32m---> <a href='vscode-notebook-cell:/c%3A/Users/king%20choco/Desktop/Mmi/task7.ipynb#X13sZmlsZQ%3D%3D?line=15'>16</a>\u001b[0m sol \u001b[39m=\u001b[39m solve_ivp(fun\u001b[39m=\u001b[39;49mf, t_span\u001b[39m=\u001b[39;49m[t0, t_end], y0\u001b[39m=\u001b[39;49my0, method\u001b[39m=\u001b[39;49m\u001b[39m'\u001b[39;49m\u001b[39mRK45\u001b[39;49m\u001b[39m'\u001b[39;49m, t_eval\u001b[39m=\u001b[39;49mt_eval, args\u001b[39m=\u001b[39;49m[M, beta, K])    \n\u001b[0;32m     <a href='vscode-notebook-cell:/c%3A/Users/king%20choco/Desktop/Mmi/task7.ipynb#X13sZmlsZQ%3D%3D?line=16'>17</a>\u001b[0m \u001b[39msum\u001b[39m \u001b[39m=\u001b[39m \u001b[39m0\u001b[39m\n\u001b[0;32m     <a href='vscode-notebook-cell:/c%3A/Users/king%20choco/Desktop/Mmi/task7.ipynb#X13sZmlsZQ%3D%3D?line=18'>19</a>\u001b[0m \u001b[39mfor\u001b[39;00m i \u001b[39min\u001b[39;00m \u001b[39mrange\u001b[39m(\u001b[39mlen\u001b[39m(y_organs)):\n",
      "File \u001b[1;32mc:\\Users\\king choco\\AppData\\Local\\Programs\\Python\\Python311\\Lib\\site-packages\\scipy\\integrate\\_ivp\\ivp.py:602\u001b[0m, in \u001b[0;36msolve_ivp\u001b[1;34m(fun, t_span, y0, method, t_eval, dense_output, events, vectorized, args, **options)\u001b[0m\n\u001b[0;32m    600\u001b[0m status \u001b[39m=\u001b[39m \u001b[39mNone\u001b[39;00m\n\u001b[0;32m    601\u001b[0m \u001b[39mwhile\u001b[39;00m status \u001b[39mis\u001b[39;00m \u001b[39mNone\u001b[39;00m:\n\u001b[1;32m--> 602\u001b[0m     message \u001b[39m=\u001b[39m solver\u001b[39m.\u001b[39;49mstep()\n\u001b[0;32m    604\u001b[0m     \u001b[39mif\u001b[39;00m solver\u001b[39m.\u001b[39mstatus \u001b[39m==\u001b[39m \u001b[39m'\u001b[39m\u001b[39mfinished\u001b[39m\u001b[39m'\u001b[39m:\n\u001b[0;32m    605\u001b[0m         status \u001b[39m=\u001b[39m \u001b[39m0\u001b[39m\n",
      "File \u001b[1;32mc:\\Users\\king choco\\AppData\\Local\\Programs\\Python\\Python311\\Lib\\site-packages\\scipy\\integrate\\_ivp\\base.py:197\u001b[0m, in \u001b[0;36mOdeSolver.step\u001b[1;34m(self)\u001b[0m\n\u001b[0;32m    195\u001b[0m \u001b[39melse\u001b[39;00m:\n\u001b[0;32m    196\u001b[0m     t \u001b[39m=\u001b[39m \u001b[39mself\u001b[39m\u001b[39m.\u001b[39mt\n\u001b[1;32m--> 197\u001b[0m     success, message \u001b[39m=\u001b[39m \u001b[39mself\u001b[39;49m\u001b[39m.\u001b[39;49m_step_impl()\n\u001b[0;32m    199\u001b[0m     \u001b[39mif\u001b[39;00m \u001b[39mnot\u001b[39;00m success:\n\u001b[0;32m    200\u001b[0m         \u001b[39mself\u001b[39m\u001b[39m.\u001b[39mstatus \u001b[39m=\u001b[39m \u001b[39m'\u001b[39m\u001b[39mfailed\u001b[39m\u001b[39m'\u001b[39m\n",
      "File \u001b[1;32mc:\\Users\\king choco\\AppData\\Local\\Programs\\Python\\Python311\\Lib\\site-packages\\scipy\\integrate\\_ivp\\rk.py:144\u001b[0m, in \u001b[0;36mRungeKutta._step_impl\u001b[1;34m(self)\u001b[0m\n\u001b[0;32m    141\u001b[0m h \u001b[39m=\u001b[39m t_new \u001b[39m-\u001b[39m t\n\u001b[0;32m    142\u001b[0m h_abs \u001b[39m=\u001b[39m np\u001b[39m.\u001b[39mabs(h)\n\u001b[1;32m--> 144\u001b[0m y_new, f_new \u001b[39m=\u001b[39m rk_step(\u001b[39mself\u001b[39;49m\u001b[39m.\u001b[39;49mfun, t, y, \u001b[39mself\u001b[39;49m\u001b[39m.\u001b[39;49mf, h, \u001b[39mself\u001b[39;49m\u001b[39m.\u001b[39;49mA,\n\u001b[0;32m    145\u001b[0m                        \u001b[39mself\u001b[39;49m\u001b[39m.\u001b[39;49mB, \u001b[39mself\u001b[39;49m\u001b[39m.\u001b[39;49mC, \u001b[39mself\u001b[39;49m\u001b[39m.\u001b[39;49mK)\n\u001b[0;32m    146\u001b[0m scale \u001b[39m=\u001b[39m atol \u001b[39m+\u001b[39m np\u001b[39m.\u001b[39mmaximum(np\u001b[39m.\u001b[39mabs(y), np\u001b[39m.\u001b[39mabs(y_new)) \u001b[39m*\u001b[39m rtol\n\u001b[0;32m    147\u001b[0m error_norm \u001b[39m=\u001b[39m \u001b[39mself\u001b[39m\u001b[39m.\u001b[39m_estimate_error_norm(\u001b[39mself\u001b[39m\u001b[39m.\u001b[39mK, h, scale)\n",
      "File \u001b[1;32mc:\\Users\\king choco\\AppData\\Local\\Programs\\Python\\Python311\\Lib\\site-packages\\scipy\\integrate\\_ivp\\rk.py:63\u001b[0m, in \u001b[0;36mrk_step\u001b[1;34m(fun, t, y, f, h, A, B, C, K)\u001b[0m\n\u001b[0;32m     61\u001b[0m K[\u001b[39m0\u001b[39m] \u001b[39m=\u001b[39m f\n\u001b[0;32m     62\u001b[0m \u001b[39mfor\u001b[39;00m s, (a, c) \u001b[39min\u001b[39;00m \u001b[39menumerate\u001b[39m(\u001b[39mzip\u001b[39m(A[\u001b[39m1\u001b[39m:], C[\u001b[39m1\u001b[39m:]), start\u001b[39m=\u001b[39m\u001b[39m1\u001b[39m):\n\u001b[1;32m---> 63\u001b[0m     dy \u001b[39m=\u001b[39m np\u001b[39m.\u001b[39;49mdot(K[:s]\u001b[39m.\u001b[39;49mT, a[:s]) \u001b[39m*\u001b[39m h\n\u001b[0;32m     64\u001b[0m     K[s] \u001b[39m=\u001b[39m fun(t \u001b[39m+\u001b[39m c \u001b[39m*\u001b[39m h, y \u001b[39m+\u001b[39m dy)\n\u001b[0;32m     66\u001b[0m y_new \u001b[39m=\u001b[39m y \u001b[39m+\u001b[39m h \u001b[39m*\u001b[39m np\u001b[39m.\u001b[39mdot(K[:\u001b[39m-\u001b[39m\u001b[39m1\u001b[39m]\u001b[39m.\u001b[39mT, B)\n",
      "\u001b[1;31mKeyboardInterrupt\u001b[0m: "
     ]
    }
   ],
   "source": [
    "# p = [1.49553350e-03, 7.48209168e-01, 1.56552933e+00, 3.49736628e+00, 3.71253961e+00, 1.10547570e+00, 2.41778169e+00, 2.26814065e-02, 1]\n",
    "p = [5.58305698e-002, 2.98276823e+000, 1.28741004e+000, 3.92213320e+000, 4.08398955e+001, 8.03871751e+000, 5.02156344e+001, 1.79981418e+000, 0]\n",
    "bounds = [(1e-160, None) for _ in p]\n",
    "res = minimize(Phi, p, bounds=bounds)\n",
    "print(res.x)\n",
    "\n",
    "res = minimize(Phi, res.x, bounds=bounds)\n",
    "print(res.x)\n"
   ]
  },
  {
   "cell_type": "code",
   "execution_count": null,
   "metadata": {},
   "outputs": [
    {
     "name": "stdout",
     "output_type": "stream",
     "text": [
      "4.516737391538186\n"
     ]
    }
   ],
   "source": [
    "print(Phi(res.x))"
   ]
  },
  {
   "cell_type": "code",
   "execution_count": null,
   "metadata": {},
   "outputs": [
    {
     "name": "stdout",
     "output_type": "stream",
     "text": [
      "[[-105.43266199    2.04199478    1.33978625    2.34339627    0.11998761]\n",
      " [   1.11664357   -2.04199478    0.            0.            0.        ]\n",
      " [  17.89661202    0.           -1.33978625    0.            0.        ]\n",
      " [  27.58739155    0.            0.           -2.34339627    0.        ]\n",
      " [  58.83201486    0.            0.            0.           -0.11998761]]\n"
     ]
    },
    {
     "name": "stderr",
     "output_type": "stream",
     "text": [
      "No artists with labels found to put in legend.  Note that artists whose label start with an underscore are ignored when legend() is called with no argument.\n"
     ]
    },
    {
     "data": {
      "image/png": "[encoded data removed]",
      "text/plain": [
       "<Figure size 640x480 with 1 Axes>"
      ]
     },
     "metadata": {},
     "output_type": "display_data"
    }
   ],
   "source": [
    "M_b_i = res.x[:len(res.x) // 2] * G\n",
    "M_i_b = res.x[len(res.x) // 2:-1] / G\n",
    "M0 = res.x[-1]\n",
    "\n",
    "M = np.zeros((len(M_b_i) + 1, len(M_b_i) + 1))\n",
    "M[0, 1:] = M_i_b\n",
    "M[1:, 0] = M_b_i\n",
    "for i in range(1, len(M)):\n",
    "    M[i, i] = -M_i_b[i - 1] \n",
    "M[0, 0] = -np.sum(M_b_i) - M0\n",
    "\n",
    "print(M)\n",
    "\n",
    "sol = solve_ivp(fun=f, t_span=[t0, t_end], y0=y0, method='RK45', t_eval=t_eval, args=[M, beta, K])\n",
    "\n",
    "plt.plot(sol.t, np.log10(sol.y[0]))\n",
    "\n",
    "plt.grid()\n",
    "plt.title ('')\n",
    "plt.xlabel('time')\n",
    "plt.ylabel('log10 PFU/ml')\n",
    "plt.legend()\n",
    "plt.show()"
   ]
  }
 ],
 "metadata": {
  "kernelspec": {
   "display_name": "Python 3",
   "language": "python",
   "name": "python3"
  },
  "language_info": {
   "codemirror_mode": {
    "name": "ipython",
    "version": 3
   },
   "file_extension": ".py",
   "mimetype": "text/x-python",
   "name": "python",
   "nbconvert_exporter": "python",
   "pygments_lexer": "ipython3",
   "version": "3.11.5"
  }
 },
 "nbformat": 4,
 "nbformat_minor": 2
}
