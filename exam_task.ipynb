{
 "cells": [
  {
   "cell_type": "markdown",
   "metadata": {},
   "source": [
    "## Models of virus infection in the absence of antibody responses\n",
    "\n",
    "$$ \\frac{d}{dt}T(t) = r T (1 - \\frac{T(t) + I(t)}{T_m}) - \\beta V(t) T(t) + \\color{red}\\rho I(t)$$\n",
    "\n",
    "$$ \\frac{d}{dt}I(t) = \\beta V(t) T(t) - \\delta I(t)- \\color{red}\\rho I(t)$$\n",
    "\n",
    "$$ \\frac{d}{dt}V(t) = \\pi I(t) - c V(t)$$\n",
    "\n",
    "where uninfected target cells (T),\n",
    "infected cells (I), and virus (V);\n",
    "\n",
    "where for acute infection \n",
    "$$ T(0)=T_m > 0 \\quad I(0) = 0 \\quad V(0) = V_0 > 0$$ \n",
    "\n",
    "The infection dies out when\n",
    "\n",
    "$$ R_0 = \\frac{\\pi \\beta T_m}{c(\\delta + \\rho)} < 1$$\n",
    "\n",
    "and the infection takes off and leads to chronic hepatitis when\n",
    "\n",
    "$$ R_0 = \\frac{\\pi \\beta T_m}{c(\\delta + \\rho)} > 1$$"
   ]
  },
  {
   "cell_type": "markdown",
   "metadata": {},
   "source": [
    "## A model of HBV infection including an antibody response\n",
    "\n",
    "$$ A + V \\begin{matrix}\n",
    "  k_p \\\\\n",
    "  \\iff \\\\\n",
    "  k_m\n",
    " \\end{matrix}X$$\n",
    "\n",
    " $$ A + S \\begin{matrix}\n",
    "  k_p^S \\\\\n",
    "  \\iff \\\\\n",
    "  k_m^S\n",
    " \\end{matrix}X_S$$\n",
    "\n",
    "$$ \\frac{d}{dt}T(t) = r T (1 - \\frac{T(t) + I(t)}{T_m}) - \\beta V(t) T(t)$$\n",
    "\n",
    "$$ \\frac{d}{dt}I(t) = \\beta V(t) T(t) - \\delta I(t)$$\n",
    "\n",
    "$$ \\color{green} \\frac{d}{dt}A(t) = p_A (V(t) + S(t)) + r_A A(t) (1 - \\frac{A(t)}{A_m}) + k_m X(t) - k_p A(t) V(t) + k_m^S X_S(t) - k_p^S A(t) S(t) - d_A A(t) $$\n",
    "\n",
    "$$ \\color{green} \\frac{d}{dt}X(t) = -k_m X(t) + k_p A(t) V(t) - c_{AV} X(t)$$\n",
    "\n",
    "$$ \\color{green} \\frac{d}{dt}X_S(t) = -k_m^S X_S(t) + k_p^S A(t) S(t) - c_{AS} X_S(t)$$\n",
    "\n",
    "$$ \\frac{d}{dt}V(t) = \\pi I(t) - c V(t) + \\color{green} k_m X(t) - k_p A(t) V(t)$$\n",
    "\n",
    "$$ \\color{green} \\frac{d}{dt}S(t) = \\pi \\theta I(t) - c_S S(t) + k_m^S X_S(t) - k_p^S A(t) S(t)$$\n",
    "\n",
    "where\n",
    "$$ T(0)=T_m > 0 \\quad I(0) = 0 \\quad A(0) = 0 \\quad V(0) = V_0 > 0 \\quad S(0) = 0 \\quad X(0) = 0 $$ \n",
    "\n",
    "The total concentration of viral DNA is described by\n",
    "\n",
    "$$ V_t = V(t) + X(t)$$\n",
    "\n",
    "and the total concentration of anti-HBsAg antibody is given by\n",
    "\n",
    "$$ A_t = A(t) + X(t) +X_S(t)$$"
   ]
  },
  {
   "cell_type": "markdown",
   "metadata": {},
   "source": [
    "## Simplification\n",
    "\n",
    "$$ k_m = k_m^S \\quad k_p = k_p^S \\quad c = c_S \\quad c_AV = c_AS$$\n",
    "\n",
    "$$ \\frac{V(t)}{S(t)} = \\frac{X(t)}{X_S(t)}$$\n",
    "\n",
    "$$ \\frac{d}{dt}T(t) = r T (1 - \\frac{T(t) + I(t)}{T_m}) - \\beta V(t) T(t)$$\n",
    "\n",
    "$$ \\frac{d}{dt}V(t) + \\frac{d}{dt}X(t) = 0 \\implies \\pi I(t) = c V(t) + c_AV X(t) = c \\frac{S(t)X(t)}{X_S(t)} + c_{AV} X(t) = \\frac{X(t)}{X_S(t)}(c S(t) + c_{AV} X_S(t))$$\n",
    "\n",
    "$$ \\frac{d}{dt}S(t) + \\frac{d}{dt}X_S(t) = 0 \\implies \\pi I(t) = \\frac{1}{\\theta}(c S(t) + c_{AV} X_S(t))$$\n",
    "\n",
    "$$ S(t) = \\theta V(t) \\quad X_S(t) = \\theta X(t) $$"
   ]
  },
  {
   "cell_type": "markdown",
   "metadata": {},
   "source": [
    "## The model of HBV infection including an antibody response with simplification\n",
    "\n",
    "$$ \\frac{d}{dt}T(t) = r T (1 - \\frac{T(t) + I(t)}{T_m}) - \\beta V(t) T(t)$$\n",
    "\n",
    "$$ \\frac{d}{dt}I(t) = \\beta V(t) T(t) - \\delta I(t)$$\n",
    "\n",
    "$$ \\frac{d}{dt}A(t) = p_A (1 + \\theta) V(t) + r_A A(t) (1 - \\frac{A(t)}{A_m}) + (1 + \\theta) k_m X(t) - (1 + \\theta) k_p A(t) V(t) - d_A A(t) $$\n",
    "\n",
    "$$ \\frac{d}{dt}X(t) = -k_m X(t) + k_p A(t) V(t) - c_{AV} X(t)$$\n",
    "\n",
    "$$ \\frac{d}{dt}V(t) = \\pi I(t) - c V(t) + k_m X(t) - k_p A(t) V(t)$$\n",
    "\n",
    "where\n",
    "$$ T(0)=T_m > 0 \\quad I(0) = 0 \\quad A(0) = 0 \\quad V(0) = V_0 > 0 \\quad S(0) = 0 \\quad X(0) = 0 $$ "
   ]
  },
  {
   "cell_type": "code",
   "execution_count": null,
   "metadata": {},
   "outputs": [],
   "source": []
  }
 ],
 "metadata": {
  "language_info": {
   "name": "python"
  }
 },
 "nbformat": 4,
 "nbformat_minor": 2
}
